{
 "cells": [
  {
   "cell_type": "code",
   "execution_count": 7,
   "id": "29d9c4e0",
   "metadata": {},
   "outputs": [],
   "source": [
    "from pypdf import PdfReader\n",
    "import re\n",
    "import os\n",
    "from collections import defaultdict\n",
    "import json\n",
    "import networkx as nx\n",
    "import plotly.graph_objects as go\n",
    "from llama_index.llms.ollama import Ollama\n",
    "from tqdm.auto import tqdm\n",
    "import random"
   ]
  },
  {
   "cell_type": "code",
   "execution_count": null,
   "id": "d5b0dcdf",
   "metadata": {},
   "outputs": [],
   "source": [
    "if not os.path.exists(\"./code_assurances_raw.txt\"):\n",
    "    reader = PdfReader(\"./LEGITEXT000006073984.pdf\")\n",
    "    text = \"\"\n",
    "    for page in reader.pages:\n",
    "        content = page.extract_text()\n",
    "        if content:\n",
    "            text += content + \"\\n\"\n",
    "\n",
    "    with open(\"code_assurances_raw.txt\", \"w\", encoding=\"utf-8\") as f:\n",
    "        f.write(text)\n",
    "else:\n",
    "    with open(\"code_assurances_raw.txt\", \"r\", encoding=\"utf-8\") as f:\n",
    "        text = f.read()"
   ]
  },
  {
   "cell_type": "code",
   "execution_count": 57,
   "id": "29974adb",
   "metadata": {},
   "outputs": [],
   "source": [
    "\n",
    "init_len = len(text)\n",
    "sub_pattern = r'Code des assurances - Dernière modification le 15 août 2025 - Document généré le 14 août 2025'\n",
    "text = re.sub(sub_pattern, '', text)\n",
    "text = text.strip()"
   ]
  },
  {
   "cell_type": "code",
   "execution_count": 58,
   "id": "50f0e803",
   "metadata": {},
   "outputs": [],
   "source": [
    "# Define regex patterns for hierarchy and articles\n",
    "part_pattern = r'(Partie législative|Partie réglementaire - Arrêtés|Partie réglementaire)\\n'\n",
    "book_pattern = r\"(^Livre [IVXLCDM]+.*$)\"\n",
    "title_pattern = r\"(^Titre [IVXLCDM]+.*$)\"\n",
    "chapter_pattern = r\"(^Chapitre [IVXLCDM]+.*$)\"\n",
    "section_pattern = r\"(^Section (?:[IVXLCDM]+|[0-9]+)+.*$)\"\n",
    "sous_section_pattern = r\"(^Sous-section\\s+(?:[IVXLCDM]+|[0-9]+).*$)\"\n",
    "article_pattern = r'(Article\\s+[A-Z]\\*?\\d+(?:-\\d+)*)'\n",
    "\n",
    "patterns = [part_pattern, book_pattern, title_pattern, chapter_pattern, section_pattern, sous_section_pattern]\n",
    "level_keys = [\"partie\", \"livre\", \"titre\", \"chapitre\", \"section\", \"sous_section\"]"
   ]
  },
  {
   "cell_type": "code",
   "execution_count": null,
   "id": "a3dcbe35",
   "metadata": {},
   "outputs": [
    {
     "name": "stdout",
     "output_type": "stream",
     "text": [
      "Number of articles: 2356\n"
     ]
    }
   ],
   "source": [
    "# Initialize data structures\n",
    "articles_list = []\n",
    "hierarchy_tree = defaultdict(lambda: defaultdict(lambda: defaultdict(lambda: defaultdict(lambda: defaultdict(dict)))))\n",
    "curr_hierarchy = {lvl: \"\" for lvl in level_keys}\n",
    "reference_graph = defaultdict(list)  \n",
    "all_articles = set() \n",
    "\n",
    "# Split text by article pattern\n",
    "articles_splits = re.split(article_pattern, text, flags=re.M)\n",
    "articles_id = articles_splits[1::2]\n",
    "articles_content = articles_splits[2::2]\n",
    "preceding_texts = articles_splits[0::2] # contains article hierarchy\n",
    "\n",
    "print(\"Number of articles:\", len(articles_id))"
   ]
  },
  {
   "cell_type": "code",
   "execution_count": null,
   "id": "5080e897",
   "metadata": {},
   "outputs": [],
   "source": [
    "def extract_keywords(content):\n",
    "    words = re.findall(r'\\w+', content.lower())\n",
    "    common_words = {'le', 'la', 'les', 'de', 'du', 'des', 'et', 'en', 'pour', 'par'}\n",
    "    return [w for w in words if w not in common_words][:5]  # Top 5 non-common words"
   ]
  },
  {
   "cell_type": "code",
   "execution_count": null,
   "id": "cc71ca8e",
   "metadata": {},
   "outputs": [],
   "source": [
    "def generate_summary(content):\n",
    "    return content[:100] + \"...\" if len(content) > 100 else content"
   ]
  },
  {
   "cell_type": "code",
   "execution_count": null,
   "id": "5bbdb5df",
   "metadata": {},
   "outputs": [
    {
     "name": "stdout",
     "output_type": "stream",
     "text": [
      "Data saved to code_assurances.json\n"
     ]
    }
   ],
   "source": [
    "# Process articles\n",
    "prev_hierarchy = {lvl: \"\" for lvl in level_keys}  # Track previous levels\n",
    "\n",
    "for i, article_id in enumerate(articles_id):\n",
    "    preceding_text = preceding_texts[i] if i < len(preceding_texts) else \"\"\n",
    "\n",
    "    # Track prev hierarchy\n",
    "    curr_hierarchy = prev_hierarchy.copy()\n",
    "\n",
    "    # Detect hierarchy changes from biggest → smallest\n",
    "    for idx, pattern in enumerate(patterns):\n",
    "        matches = re.findall(pattern, preceding_text, flags=re.MULTILINE)\n",
    "        if matches:\n",
    "            new_val = re.sub(r\"\\n\", \" \", matches[-1].strip())\n",
    "            \n",
    "            # If hierarchy level changed, reset all lower levels\n",
    "            if curr_hierarchy[level_keys[idx]] != new_val:\n",
    "                curr_hierarchy[level_keys[idx]] = new_val\n",
    "                for lower_idx in range(idx + 1, len(level_keys)):\n",
    "                    curr_hierarchy[level_keys[lower_idx]] = \"\"\n",
    "\n",
    "    # Process article content\n",
    "    content = articles_content[i].strip()\n",
    "    content = re.sub(r\"\\n\", \" \", content)\n",
    "    references = re.findall(r\"[A-Z]\\.\\s*\\d{3}-\\d+(?:-\\d+)?\", content)\n",
    "    for ref in references:\n",
    "        reference_graph[\"Article \" + re.sub(\". \", \"\", ref)].append(article_id)\n",
    "\n",
    "    # Build article record\n",
    "    article = {\n",
    "        \"article_id\": article_id,\n",
    "        \"content\": content,\n",
    "        \"hierarchy\": curr_hierarchy.copy(),\n",
    "        \"references\": [\"Article \" + re.sub(\". \", \"\", r) for r in references],\n",
    "        \"referenced_by\": [],\n",
    "        \"summary\": generate_summary(content),\n",
    "        \"keywords\": extract_keywords(content),\n",
    "        \"page_number\": None\n",
    "    }\n",
    "    articles_list.append(article)\n",
    "    all_articles.add(article_id)\n",
    "\n",
    "    # Build hierarchy tree\n",
    "    node = hierarchy_tree\n",
    "    for lvl in level_keys[:-1]:  # Stop at sous_section for simplicity\n",
    "        if curr_hierarchy[lvl]:\n",
    "            node = node[curr_hierarchy[lvl]]\n",
    "    node[\"articles\"] = node.get(\"articles\", []) + [article_id]\n",
    "\n",
    "    # Update prev_hierarchy for next article\n",
    "    prev_hierarchy = curr_hierarchy.copy()\n",
    "\n",
    "# Populate referenced_by field\n",
    "for article in articles_list:\n",
    "    article_id = article[\"article_id\"]\n",
    "    article[\"referenced_by\"] = reference_graph.get(article_id, [])\n",
    "\n",
    "# Create final output\n",
    "output = {\n",
    "    \"articles\": articles_list,\n",
    "    \"hierarchy_tree\": dict(hierarchy_tree)\n",
    "}\n",
    "\n",
    "# Save to JSON\n",
    "with open(\"code_assurances.json\", \"w\", encoding=\"utf-8\") as f:\n",
    "    json.dump(output, f, ensure_ascii=False, indent=2)\n",
    "\n",
    "print(\"Data saved to code_assurances.json\")"
   ]
  },
  {
   "cell_type": "code",
   "execution_count": null,
   "id": "42e835f2",
   "metadata": {},
   "outputs": [
    {
     "name": "stdout",
     "output_type": "stream",
     "text": [
      "Graph saved to reference_graph.html\n"
     ]
    }
   ],
   "source": [
    "# Load processed data\n",
    "with open(\"code_assurances.json\", \"r\", encoding=\"utf-8\") as f:\n",
    "    data = json.load(f)\n",
    "\n",
    "articles = data[\"articles\"]\n",
    "\n",
    "def normalize_id(article_id: str) -> str:\n",
    "    article_id = article_id.replace(\"Article \", \"\").replace(\" \", \"\")\n",
    "    article_id = re.sub(r'\\.', '', article_id)\n",
    "    return article_id\n",
    "\n",
    "# Create directed graph\n",
    "G = nx.DiGraph()\n",
    "\n",
    "# Add nodes\n",
    "for article in articles:\n",
    "    article_id = normalize_id(article[\"article_id\"])\n",
    "    G.add_node(\n",
    "        article_id,\n",
    "        livre=article[\"hierarchy\"][\"livre\"],\n",
    "        titre=article[\"hierarchy\"][\"titre\"],\n",
    "        summary=article[\"summary\"]\n",
    "    )\n",
    "\n",
    "# Add edges\n",
    "for article in articles:\n",
    "    article_id = normalize_id(article[\"article_id\"])\n",
    "    for ref in article[\"references\"]:\n",
    "        ref_id = normalize_id(ref)  \n",
    "        if ref_id in G.nodes:                  \n",
    "            G.add_edge(article_id, ref_id)\n",
    "\n",
    "\n",
    "# Compute degree\n",
    "for node in G.nodes:\n",
    "    G.nodes[node][\"degree\"] = G.in_degree(node) + G.out_degree(node)\n",
    "\n",
    "# Compute layout\n",
    "pos = nx.spring_layout(G, k=0.5, iterations=50)\n",
    "\n",
    "# Edge coordinates\n",
    "edge_x = []\n",
    "edge_y = []\n",
    "for edge in G.edges:\n",
    "    x0, y0 = pos[edge[0]]\n",
    "    x1, y1 = pos[edge[1]]\n",
    "    edge_x.extend([x0, x1, None])\n",
    "    edge_y.extend([y0, y1, None])\n",
    "\n",
    "edge_trace = go.Scatter(\n",
    "    x=edge_x, y=edge_y,\n",
    "    line=dict(width=0.5, color=\"#888\"),\n",
    "    hoverinfo=\"none\",\n",
    "    mode=\"lines\"\n",
    ")\n",
    "\n",
    "# Node coordinates\n",
    "node_x = [pos[node][0] for node in G.nodes]\n",
    "node_y = [pos[node][1] for node in G.nodes]\n",
    "node_degree = [G.nodes[node][\"degree\"] for node in G.nodes]\n",
    "\n",
    "node_text = [\n",
    "    f\"Article: {node}<br>Livre: {G.nodes[node]['livre']}<br>Titre: {G.nodes[node]['titre']}<br>Summary: {G.nodes[node]['summary']}<br>Degree: {G.nodes[node]['degree']}\"\n",
    "    for node in G.nodes\n",
    "]\n",
    "\n",
    "node_trace = go.Scatter(\n",
    "    x=node_x, y=node_y,\n",
    "    mode=\"markers\",\n",
    "    hoverinfo=\"text\",\n",
    "    text=node_text,\n",
    "    marker=dict(\n",
    "        showscale=True,\n",
    "        colorscale=\"Viridis\",\n",
    "        color=node_degree,  # Color by degree\n",
    "        size=[max(10, d*2) for d in node_degree],\n",
    "        colorbar=dict(\n",
    "            thickness=15,\n",
    "            title=\"Node Degree\",\n",
    "            xanchor=\"left\",\n",
    "        ),\n",
    "        line_width=2\n",
    "    )\n",
    ")\n",
    "\n",
    "# Create figure\n",
    "fig = go.Figure(data=[edge_trace, node_trace],\n",
    "                layout=go.Layout(\n",
    "                    title=\"Reference Graph of Code des Assurances\",\n",
    "                    title_x=0.5,\n",
    "                    showlegend=False,\n",
    "                    hovermode=\"closest\",\n",
    "                    margin=dict(b=20, l=5, r=5, t=40),\n",
    "                    xaxis=dict(showgrid=False, zeroline=False, showticklabels=False),\n",
    "                    yaxis=dict(showgrid=False, zeroline=False, showticklabels=False)\n",
    "                ))\n",
    "\n",
    "# Save and show\n",
    "fig.write_html(\"reference_graph.html\")\n",
    "print(\"Graph saved to reference_graph.html\")\n"
   ]
  },
  {
   "cell_type": "markdown",
   "id": "1555c71a",
   "metadata": {},
   "source": [
    "## Generate single article summary using LLMs"
   ]
  },
  {
   "cell_type": "code",
   "execution_count": 4,
   "id": "cc288be3",
   "metadata": {},
   "outputs": [],
   "source": [
    "# Load processed data\n",
    "with open(\"code_assurances.json\", \"r\", encoding=\"utf-8\") as f:\n",
    "    data = json.load(f)\n",
    "\n",
    "articles = data[\"articles\"]"
   ]
  },
  {
   "cell_type": "code",
   "execution_count": 5,
   "id": "8c015dd6",
   "metadata": {},
   "outputs": [],
   "source": [
    "llm = Ollama(model=\"llama3.2:1b\", temperature=0.1)\n",
    "def generate_summary(content):\n",
    "    prompt = (\n",
    "        \"Provide a concise summary of the following French insurance code article in about 100 characters in french. \"\n",
    "        \"Focus on key legal obligations and procedures, using precise legal terminology and only give the summary as answer:\\n\\n\"\n",
    "        f\"{content}\"\n",
    "    )\n",
    "    response = llm.complete(prompt)\n",
    "    summary = str(response).strip()\n",
    "    return summary"
   ]
  },
  {
   "cell_type": "code",
   "execution_count": 9,
   "id": "5cb6dc4a",
   "metadata": {},
   "outputs": [
    {
     "data": {
      "text/plain": [
       "['article_id',\n",
       " 'content',\n",
       " 'hierarchy',\n",
       " 'references',\n",
       " 'referenced_by',\n",
       " 'summary',\n",
       " 'keywords',\n",
       " 'page_number']"
      ]
     },
     "execution_count": 9,
     "metadata": {},
     "output_type": "execute_result"
    }
   ],
   "source": [
    "list(articles[0].keys())"
   ]
  },
  {
   "cell_type": "code",
   "execution_count": 11,
   "id": "36e3e349",
   "metadata": {},
   "outputs": [
    {
     "name": "stdout",
     "output_type": "stream",
     "text": [
      "Article R421-4\n",
      "Content:  Lorsqu'un contrat d'assurance a été souscrit pour garantir les conséquences pécuniaires de la responsabilité civile de l'auteur de dommages résultant d'atteintes aux personnes nés d'un accident mentionné au I de l'article L. 421-1, le fonds de garantie ne peut être appelé à payer l'indemnité allouée à la victime ou à ses ayants droit qu'en cas de suspension du contrat ou de non-assurance ou d'assurance partielle, opposables à la victime ou à ses ayants droit.   Pour les dommages causés aux personnes à la suite d'un accident mentionné au II de l'article L. 421-1, le fonds de garantie ne peut être appelé à payer l'indemnité allouée à la victime ou à ses ayants droit qu'en cas de nullité ou de suspension du contrat ou de la garantie de non-assurance ou d'assurance partielle, opposables à la victime ou à ses ayants droit.   Dans le cas où, par suite de l'insuffisance du montant de la garantie stipulée au contrat, une part de l'indemnité due à la victime ou à ses ayants droit pour les dommages ci-dessus mentionnés reste à la charge du responsable, l'assureur de ce dernier, après avoir recueilli en cas de règlement transactionnel l'accord du fonds de garantie, verse pour le compte de ce dernier le reliquat de l'indemnité et l'avise de ce versement.\n",
      "Summary:  L'assureur ne peut pas payer les indemnités allouées à la victime ou ses ayants droit qu'en cas de suspension du contrat ou d'assurance partielle, sans accord préalable du fonds de garantie.\n",
      "Content length: 1262 | Summary length: 190\n",
      "--------------------------------------------------\n",
      "Article L311-14\n",
      "Content:  Le collège de supervision de l'Autorité de contrôle prudentiel et de résolution peut enjoindre à une personne mentionnée à l'article L. 311-5 de prévoir, dans le cadre du plan de rétablissement ou du plan de convergence soumis à l'Autorité en application, respectivement, des articles L. 352-7 et L. 385-8 du présent code, ainsi que dans le programme de rétablissement qui lui est soumis en application de l'article L. 612-32 du code monétaire et financier, d'appliquer une ou plusieurs mesures figurant dans le plan préventif de rétablissement mentionné à la section 2.   Le collège de supervision informe sans délai le collège de résolution de toute mesure prise en application du présent article ainsi que de celles prises en application de l'article L. 612-33 du code monétaire et financier.\n",
      "Summary:  L'individu doit prévoir des mesures dans les plans de rétablissement ou de convergence, conformément aux articles L. 352-7 et L. 385-8, ainsi que dans le programme de rétablissement soumis à l'Autorité.\n",
      "Content length: 795 | Summary length: 202\n",
      "--------------------------------------------------\n",
      "Article D125-6\n",
      "Content:  L'assuré doit déclarer à l'assureur ou à son représentant local tout sinistre susceptible de faire jouer la garantie dès qu'il en a connaissance et au plus tard dans les trente jours suivant la publication de l'arrêté interministériel constatant l'état de catastrophe naturelle.\n",
      "Summary:  L'assuré doit signaler tout sinistre potentiel à l'assureur ou son représentant local dès que possible, au plus tard dans les 30 jours suivant la publication de l'arrêté prévoyant le statut de catastrophe naturelle.\n",
      "Content length: 278 | Summary length: 215\n",
      "--------------------------------------------------\n"
     ]
    }
   ],
   "source": [
    "for article in random.sample(articles, 3):\n",
    "    content = article[\"content\"]\n",
    "    article_id = article[\"article_id\"]\n",
    "    summary = generate_summary(content)\n",
    "    print(article_id)\n",
    "    print(\"Content: \", content)\n",
    "    print(\"Summary: \", summary)\n",
    "    print(f\"Content length: {len(content)} | Summary length: {len(summary)}\")\n",
    "    print(\"-\" * 50)"
   ]
  }
 ],
 "metadata": {
  "kernelspec": {
   "display_name": "mcp",
   "language": "python",
   "name": "python3"
  },
  "language_info": {
   "codemirror_mode": {
    "name": "ipython",
    "version": 3
   },
   "file_extension": ".py",
   "mimetype": "text/x-python",
   "name": "python",
   "nbconvert_exporter": "python",
   "pygments_lexer": "ipython3",
   "version": "3.11.13"
  }
 },
 "nbformat": 4,
 "nbformat_minor": 5
}
