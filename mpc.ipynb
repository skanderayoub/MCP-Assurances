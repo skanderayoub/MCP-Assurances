{
 "cells": [
  {
   "cell_type": "code",
   "execution_count": 1,
   "id": "0869cdc1",
   "metadata": {},
   "outputs": [],
   "source": [
    "import json"
   ]
  },
  {
   "cell_type": "code",
   "execution_count": 2,
   "id": "c60dcba4",
   "metadata": {},
   "outputs": [],
   "source": [
    "with open(\"code_assurances.json\", \"r\", encoding=\"utf-8\") as f:\n",
    "    data = json.load(f)\n",
    "\n",
    "articles = data[\"articles\"]\n",
    "hierarchy = data[\"hierarchy_tree\"]"
   ]
  },
  {
   "cell_type": "code",
   "execution_count": 3,
   "id": "31bf3495",
   "metadata": {},
   "outputs": [
    {
     "data": {
      "text/plain": [
       "{'article_id': 'Article L100-1',\n",
       " 'content': 'Pour l\\'application du présent livre, les mots : \" la France \", les mots : \" en France \", et les mots : \" territoire de la République française \" désignent la France métropolitaine et les collectivités territoriales régies par l\\'article 73 de la Constitution ainsi que Saint-Barthélemy et Saint-Martin. Sauf pour les dispositions qui concernent la libre prestation de services et la liberté d\\'établissement, ces mots désignent également Saint- Pierre-et-Miquelon.  Partie législative Livre Ier : Le contrat Titre Ier : Règles communes aux assurances de dommages et aux assurances de personnes Chapitre Ier : Dispositions générales.',\n",
       " 'hierarchy': {'partie': 'Partie législative ',\n",
       "  'livre': 'Livre Ier : Le contrat ',\n",
       "  'titre': '',\n",
       "  'chapitre': '',\n",
       "  'section': '',\n",
       "  'sous_section': ''},\n",
       " 'references': [],\n",
       " 'referenced_by': [],\n",
       " 'summary': '',\n",
       " 'keywords': ['mots', 'france', 'ier', 'livre', 'désignent'],\n",
       " 'page_number': None}"
      ]
     },
     "execution_count": 3,
     "metadata": {},
     "output_type": "execute_result"
    }
   ],
   "source": [
    "articles[0]"
   ]
  },
  {
   "cell_type": "code",
   "execution_count": 4,
   "id": "d94f52db",
   "metadata": {},
   "outputs": [
    {
     "data": {
      "text/plain": [
       "{'article_id': 'Article L111-1',\n",
       " 'content': \"Les titres Ier, II et III du présent livre ne concernent que les assurances terrestres. A l'exception des articles L. 111-6, L. 112-2, L. 112-4, L. 112-7 et L. 113-4-1, ils ne sont applicables ni aux contrats d'assurance régis par le titre VII du présent livre ni aux opérations d'assurance crédit ; les opérations de réassurance conclues entre assureurs et réassureurs sont exclues de leur champ d'application.      Il n'est pas dérogé aux dispositions des lois et règlements relatifs aux sociétés à forme tontinière ; aux assurances contractées par les chefs d'entreprise, à raison de la responsabilité des accidents de travail survenus à leurs ouvriers et employés ; aux sociétés ou caisses d'assurances et de réassurances mutuelles agricoles.\",\n",
       " 'hierarchy': {'partie': 'Partie législative ',\n",
       "  'livre': 'Livre Ier : Le contrat ',\n",
       "  'titre': 'Titre Ier : Règles communes aux assurances de dommages et aux assurances de personnes',\n",
       "  'chapitre': '',\n",
       "  'section': '',\n",
       "  'sous_section': ''},\n",
       " 'references': ['Article L111-6',\n",
       "  'Article L112-2',\n",
       "  'Article L112-4',\n",
       "  'Article L112-7',\n",
       "  'Article L113-4-1'],\n",
       " 'referenced_by': ['Article R343-1', 'Article R350-2', 'Article R350-2'],\n",
       " 'summary': '',\n",
       " 'keywords': ['opérations', 'présent', 'livre', 'assurances', 'titres'],\n",
       " 'page_number': None}"
      ]
     },
     "execution_count": 4,
     "metadata": {},
     "output_type": "execute_result"
    }
   ],
   "source": [
    "articles[1]"
   ]
  }
 ],
 "metadata": {
  "kernelspec": {
   "display_name": "mcp",
   "language": "python",
   "name": "python3"
  },
  "language_info": {
   "codemirror_mode": {
    "name": "ipython",
    "version": 3
   },
   "file_extension": ".py",
   "mimetype": "text/x-python",
   "name": "python",
   "nbconvert_exporter": "python",
   "pygments_lexer": "ipython3",
   "version": "3.11.13"
  }
 },
 "nbformat": 4,
 "nbformat_minor": 5
}
